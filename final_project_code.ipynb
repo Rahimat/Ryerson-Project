{
 "cells": [
  {
   "cell_type": "markdown",
   "id": "6eee4087",
   "metadata": {},
   "source": [
    "Name: Rahimat Folake yusuf\n",
    "\n",
    "Student Number: 501006487\n",
    "\n",
    "Project Topic: Fake News Classification for UNHCR Organization using Natural Language Processing and Deep Learning in Python."
   ]
  },
  {
   "cell_type": "code",
   "execution_count": null,
   "id": "3bf3f45b",
   "metadata": {},
   "outputs": [],
   "source": [
    "#pip install nltk\n",
    "import pandas as pd\n",
    "import numpy as np #used to import numpy arrays\n",
    "import matplotlib.pyplot as plt # for visualization\n",
    "import re #Regular expression is useful for searching words in a text/document/paragraph\n",
    "from nltk.corpus import stopwords #natural language toolkit, and corpus means the important content of the text and stopwords removes words that do not add value \n",
    "from nltk.stem.porter import PorterStemmer #porterstemmer: used to stem the words giving us the root word\n",
    "from sklearn.feature_extraction.text import TfidfVectorizer #used to convert the text to feature vectors\n",
    "from sklearn.linear_model import LogisticRegression #used to import our model Logistic regression\n",
    "from sklearn.naive_bayes import MultinomialNB #used to import Naive Bayes Algorithmn\n",
    "from sklearn.tree import DecisionTreeClassifier #used to import the decision tree algorithm\n",
    "from sklearn.model_selection import cross_val_score "
   ]
  },
  {
   "cell_type": "code",
   "execution_count": 2,
   "id": "a26b310d",
   "metadata": {},
   "outputs": [
    {
     "name": "stderr",
     "output_type": "stream",
     "text": [
      "[nltk_data] Downloading package stopwords to\n",
      "[nltk_data]     /Users/rahimatyusuf/nltk_data...\n",
      "[nltk_data]   Package stopwords is already up-to-date!\n"
     ]
    },
    {
     "data": {
      "text/plain": [
       "True"
      ]
     },
     "execution_count": 2,
     "metadata": {},
     "output_type": "execute_result"
    }
   ],
   "source": [
    "#This is importing and downloading the stopwords \n",
    "import nltk\n",
    "nltk.download('stopwords')"
   ]
  },
  {
   "cell_type": "code",
   "execution_count": 3,
   "id": "b70752d1",
   "metadata": {
    "scrolled": true
   },
   "outputs": [
    {
     "name": "stdout",
     "output_type": "stream",
     "text": [
      "['i', 'me', 'my', 'myself', 'we', 'our', 'ours', 'ourselves', 'you', \"you're\", \"you've\", \"you'll\", \"you'd\", 'your', 'yours', 'yourself', 'yourselves', 'he', 'him', 'his', 'himself', 'she', \"she's\", 'her', 'hers', 'herself', 'it', \"it's\", 'its', 'itself', 'they', 'them', 'their', 'theirs', 'themselves', 'what', 'which', 'who', 'whom', 'this', 'that', \"that'll\", 'these', 'those', 'am', 'is', 'are', 'was', 'were', 'be', 'been', 'being', 'have', 'has', 'had', 'having', 'do', 'does', 'did', 'doing', 'a', 'an', 'the', 'and', 'but', 'if', 'or', 'because', 'as', 'until', 'while', 'of', 'at', 'by', 'for', 'with', 'about', 'against', 'between', 'into', 'through', 'during', 'before', 'after', 'above', 'below', 'to', 'from', 'up', 'down', 'in', 'out', 'on', 'off', 'over', 'under', 'again', 'further', 'then', 'once', 'here', 'there', 'when', 'where', 'why', 'how', 'all', 'any', 'both', 'each', 'few', 'more', 'most', 'other', 'some', 'such', 'no', 'nor', 'not', 'only', 'own', 'same', 'so', 'than', 'too', 'very', 's', 't', 'can', 'will', 'just', 'don', \"don't\", 'should', \"should've\", 'now', 'd', 'll', 'm', 'o', 're', 've', 'y', 'ain', 'aren', \"aren't\", 'couldn', \"couldn't\", 'didn', \"didn't\", 'doesn', \"doesn't\", 'hadn', \"hadn't\", 'hasn', \"hasn't\", 'haven', \"haven't\", 'isn', \"isn't\", 'ma', 'mightn', \"mightn't\", 'mustn', \"mustn't\", 'needn', \"needn't\", 'shan', \"shan't\", 'shouldn', \"shouldn't\", 'wasn', \"wasn't\", 'weren', \"weren't\", 'won', \"won't\", 'wouldn', \"wouldn't\"]\n"
     ]
    }
   ],
   "source": [
    "#Printing the stop words in english as they do not add value to our data\n",
    "\n",
    "print (stopwords.words('english'))"
   ]
  },
  {
   "cell_type": "markdown",
   "id": "31315c5d",
   "metadata": {},
   "source": [
    "Step 1: Data Cleaning:"
   ]
  },
  {
   "cell_type": "code",
   "execution_count": 4,
   "id": "a2680d7d",
   "metadata": {},
   "outputs": [],
   "source": [
    "#Loading the dataset to a pandas DataFrame\n",
    "df = pd.read_csv('/Users/rahimatyusuf/Documents/Data Analytics/Ryerson/CMTH 820/Untitled Folder/train.csv')"
   ]
  },
  {
   "cell_type": "code",
   "execution_count": 5,
   "id": "acc28cd3",
   "metadata": {},
   "outputs": [
    {
     "data": {
      "text/plain": [
       "(20800, 5)"
      ]
     },
     "execution_count": 5,
     "metadata": {},
     "output_type": "execute_result"
    }
   ],
   "source": [
    "#To display the numbers of rows\n",
    "\n",
    "df.shape"
   ]
  },
  {
   "cell_type": "code",
   "execution_count": 6,
   "id": "171651ae",
   "metadata": {},
   "outputs": [
    {
     "data": {
      "text/html": [
       "<div>\n",
       "<style scoped>\n",
       "    .dataframe tbody tr th:only-of-type {\n",
       "        vertical-align: middle;\n",
       "    }\n",
       "\n",
       "    .dataframe tbody tr th {\n",
       "        vertical-align: top;\n",
       "    }\n",
       "\n",
       "    .dataframe thead th {\n",
       "        text-align: right;\n",
       "    }\n",
       "</style>\n",
       "<table border=\"1\" class=\"dataframe\">\n",
       "  <thead>\n",
       "    <tr style=\"text-align: right;\">\n",
       "      <th></th>\n",
       "      <th>id</th>\n",
       "      <th>title</th>\n",
       "      <th>author</th>\n",
       "      <th>text</th>\n",
       "      <th>label</th>\n",
       "    </tr>\n",
       "  </thead>\n",
       "  <tbody>\n",
       "    <tr>\n",
       "      <th>0</th>\n",
       "      <td>0</td>\n",
       "      <td>House Dem Aide: We Didn’t Even See Comey’s Let...</td>\n",
       "      <td>Darrell Lucus</td>\n",
       "      <td>House Dem Aide: We Didn’t Even See Comey’s Let...</td>\n",
       "      <td>1</td>\n",
       "    </tr>\n",
       "    <tr>\n",
       "      <th>1</th>\n",
       "      <td>1</td>\n",
       "      <td>FLYNN: Hillary Clinton, Big Woman on Campus - ...</td>\n",
       "      <td>Daniel J. Flynn</td>\n",
       "      <td>Ever get the feeling your life circles the rou...</td>\n",
       "      <td>0</td>\n",
       "    </tr>\n",
       "    <tr>\n",
       "      <th>2</th>\n",
       "      <td>2</td>\n",
       "      <td>Why the Truth Might Get You Fired</td>\n",
       "      <td>Consortiumnews.com</td>\n",
       "      <td>Why the Truth Might Get You Fired October 29, ...</td>\n",
       "      <td>1</td>\n",
       "    </tr>\n",
       "    <tr>\n",
       "      <th>3</th>\n",
       "      <td>3</td>\n",
       "      <td>15 Civilians Killed In Single US Airstrike Hav...</td>\n",
       "      <td>Jessica Purkiss</td>\n",
       "      <td>Videos 15 Civilians Killed In Single US Airstr...</td>\n",
       "      <td>1</td>\n",
       "    </tr>\n",
       "    <tr>\n",
       "      <th>4</th>\n",
       "      <td>4</td>\n",
       "      <td>Iranian woman jailed for fictional unpublished...</td>\n",
       "      <td>Howard Portnoy</td>\n",
       "      <td>Print \\nAn Iranian woman has been sentenced to...</td>\n",
       "      <td>1</td>\n",
       "    </tr>\n",
       "  </tbody>\n",
       "</table>\n",
       "</div>"
      ],
      "text/plain": [
       "   id                                              title              author  \\\n",
       "0   0  House Dem Aide: We Didn’t Even See Comey’s Let...       Darrell Lucus   \n",
       "1   1  FLYNN: Hillary Clinton, Big Woman on Campus - ...     Daniel J. Flynn   \n",
       "2   2                  Why the Truth Might Get You Fired  Consortiumnews.com   \n",
       "3   3  15 Civilians Killed In Single US Airstrike Hav...     Jessica Purkiss   \n",
       "4   4  Iranian woman jailed for fictional unpublished...      Howard Portnoy   \n",
       "\n",
       "                                                text  label  \n",
       "0  House Dem Aide: We Didn’t Even See Comey’s Let...      1  \n",
       "1  Ever get the feeling your life circles the rou...      0  \n",
       "2  Why the Truth Might Get You Fired October 29, ...      1  \n",
       "3  Videos 15 Civilians Killed In Single US Airstr...      1  \n",
       "4  Print \\nAn Iranian woman has been sentenced to...      1  "
      ]
     },
     "execution_count": 6,
     "metadata": {},
     "output_type": "execute_result"
    }
   ],
   "source": [
    "#To display the first 5 rows\n",
    "df.head(5)"
   ]
  },
  {
   "cell_type": "code",
   "execution_count": 7,
   "id": "9d01c309",
   "metadata": {},
   "outputs": [
    {
     "data": {
      "text/html": [
       "<div>\n",
       "<style scoped>\n",
       "    .dataframe tbody tr th:only-of-type {\n",
       "        vertical-align: middle;\n",
       "    }\n",
       "\n",
       "    .dataframe tbody tr th {\n",
       "        vertical-align: top;\n",
       "    }\n",
       "\n",
       "    .dataframe thead th {\n",
       "        text-align: right;\n",
       "    }\n",
       "</style>\n",
       "<table border=\"1\" class=\"dataframe\">\n",
       "  <thead>\n",
       "    <tr style=\"text-align: right;\">\n",
       "      <th></th>\n",
       "      <th>id</th>\n",
       "      <th>title</th>\n",
       "      <th>author</th>\n",
       "      <th>text</th>\n",
       "      <th>label</th>\n",
       "    </tr>\n",
       "  </thead>\n",
       "  <tbody>\n",
       "    <tr>\n",
       "      <th>20795</th>\n",
       "      <td>20795</td>\n",
       "      <td>Rapper T.I.: Trump a ’Poster Child For White S...</td>\n",
       "      <td>Jerome Hudson</td>\n",
       "      <td>Rapper T. I. unloaded on black celebrities who...</td>\n",
       "      <td>0</td>\n",
       "    </tr>\n",
       "    <tr>\n",
       "      <th>20796</th>\n",
       "      <td>20796</td>\n",
       "      <td>N.F.L. Playoffs: Schedule, Matchups and Odds -...</td>\n",
       "      <td>Benjamin Hoffman</td>\n",
       "      <td>When the Green Bay Packers lost to the Washing...</td>\n",
       "      <td>0</td>\n",
       "    </tr>\n",
       "    <tr>\n",
       "      <th>20797</th>\n",
       "      <td>20797</td>\n",
       "      <td>Macy’s Is Said to Receive Takeover Approach by...</td>\n",
       "      <td>Michael J. de la Merced and Rachel Abrams</td>\n",
       "      <td>The Macy’s of today grew from the union of sev...</td>\n",
       "      <td>0</td>\n",
       "    </tr>\n",
       "    <tr>\n",
       "      <th>20798</th>\n",
       "      <td>20798</td>\n",
       "      <td>NATO, Russia To Hold Parallel Exercises In Bal...</td>\n",
       "      <td>Alex Ansary</td>\n",
       "      <td>NATO, Russia To Hold Parallel Exercises In Bal...</td>\n",
       "      <td>1</td>\n",
       "    </tr>\n",
       "    <tr>\n",
       "      <th>20799</th>\n",
       "      <td>20799</td>\n",
       "      <td>What Keeps the F-35 Alive</td>\n",
       "      <td>David Swanson</td>\n",
       "      <td>David Swanson is an author, activist, journa...</td>\n",
       "      <td>1</td>\n",
       "    </tr>\n",
       "  </tbody>\n",
       "</table>\n",
       "</div>"
      ],
      "text/plain": [
       "          id                                              title  \\\n",
       "20795  20795  Rapper T.I.: Trump a ’Poster Child For White S...   \n",
       "20796  20796  N.F.L. Playoffs: Schedule, Matchups and Odds -...   \n",
       "20797  20797  Macy’s Is Said to Receive Takeover Approach by...   \n",
       "20798  20798  NATO, Russia To Hold Parallel Exercises In Bal...   \n",
       "20799  20799                          What Keeps the F-35 Alive   \n",
       "\n",
       "                                          author  \\\n",
       "20795                              Jerome Hudson   \n",
       "20796                           Benjamin Hoffman   \n",
       "20797  Michael J. de la Merced and Rachel Abrams   \n",
       "20798                                Alex Ansary   \n",
       "20799                              David Swanson   \n",
       "\n",
       "                                                    text  label  \n",
       "20795  Rapper T. I. unloaded on black celebrities who...      0  \n",
       "20796  When the Green Bay Packers lost to the Washing...      0  \n",
       "20797  The Macy’s of today grew from the union of sev...      0  \n",
       "20798  NATO, Russia To Hold Parallel Exercises In Bal...      1  \n",
       "20799    David Swanson is an author, activist, journa...      1  "
      ]
     },
     "execution_count": 7,
     "metadata": {},
     "output_type": "execute_result"
    }
   ],
   "source": [
    "#To display the bottom 5 rows\n",
    "df.tail(5) "
   ]
  },
  {
   "cell_type": "code",
   "execution_count": 8,
   "id": "29f70157",
   "metadata": {},
   "outputs": [
    {
     "data": {
      "text/plain": [
       "id         int64\n",
       "title     object\n",
       "author    object\n",
       "text      object\n",
       "label      int64\n",
       "dtype: object"
      ]
     },
     "execution_count": 8,
     "metadata": {},
     "output_type": "execute_result"
    }
   ],
   "source": [
    "#Data Type\n",
    "df.dtypes"
   ]
  },
  {
   "cell_type": "code",
   "execution_count": 9,
   "id": "9bd9ec07",
   "metadata": {},
   "outputs": [
    {
     "name": "stdout",
     "output_type": "stream",
     "text": [
      "number of duplicate rows:  (0, 5)\n"
     ]
    }
   ],
   "source": [
    "#Rows containing duplicate data\n",
    "duplicate_rows_df = df[df.duplicated()]\n",
    "print(\"number of duplicate rows: \", duplicate_rows_df.shape)"
   ]
  },
  {
   "cell_type": "code",
   "execution_count": 10,
   "id": "985ef4e7",
   "metadata": {},
   "outputs": [
    {
     "name": "stdout",
     "output_type": "stream",
     "text": [
      "id           0\n",
      "title      558\n",
      "author    1957\n",
      "text        39\n",
      "label        0\n",
      "dtype: int64\n"
     ]
    }
   ],
   "source": [
    "#Find missing values in the dataset\n",
    "\n",
    "print(df.isnull().sum())\n"
   ]
  },
  {
   "cell_type": "code",
   "execution_count": 17,
   "id": "2331eba9",
   "metadata": {},
   "outputs": [
    {
     "data": {
      "text/plain": [
       "1    10413\n",
       "0    10387\n",
       "Name: label, dtype: int64"
      ]
     },
     "execution_count": 17,
     "metadata": {},
     "output_type": "execute_result"
    },
    {
     "data": {
      "image/png": "[encoded data removed]",
      "text/plain": [
       "<Figure size 720x360 with 1 Axes>"
      ]
     },
     "metadata": {
      "needs_background": "light"
     },
     "output_type": "display_data"
    }
   ],
   "source": [
    "#Data Visulization of the attribute Label to detect balance dataset\n",
    "\n",
    "df.label.value_counts().nlargest(40).plot(kind='bar', figsize=(10,5))\n",
    "plt.title(\"Fake or Real News\")\n",
    "plt.ylabel('Label count')\n",
    "plt.xlabel('label');\n",
    "df.label.value_counts()"
   ]
  },
  {
   "cell_type": "code",
   "execution_count": 19,
   "id": "c088e27f",
   "metadata": {},
   "outputs": [],
   "source": [
    "#since we have a large dataset that are missing, we would use the imputation method to replace the nullstrings\n",
    "\n",
    "df = df.fillna('')\n"
   ]
  },
  {
   "cell_type": "code",
   "execution_count": 20,
   "id": "a05b26cb",
   "metadata": {},
   "outputs": [
    {
     "name": "stdout",
     "output_type": "stream",
     "text": [
      "0        Darrell Lucus House Dem Aide: We Didn’t Even S...\n",
      "1        Daniel J. Flynn FLYNN: Hillary Clinton, Big Wo...\n",
      "2        Consortiumnews.com Why the Truth Might Get You...\n",
      "3        Jessica Purkiss 15 Civilians Killed In Single ...\n",
      "4        Howard Portnoy Iranian woman jailed for fictio...\n",
      "                               ...                        \n",
      "20795    Jerome Hudson Rapper T.I.: Trump a ’Poster Chi...\n",
      "20796    Benjamin Hoffman N.F.L. Playoffs: Schedule, Ma...\n",
      "20797    Michael J. de la Merced and Rachel Abrams Macy...\n",
      "20798    Alex Ansary NATO, Russia To Hold Parallel Exer...\n",
      "20799              David Swanson What Keeps the F-35 Alive\n",
      "Name: content, Length: 20800, dtype: object\n"
     ]
    }
   ],
   "source": [
    "#Dependent Variable Selection\n",
    "#Combining the attribute 'title' and 'author' to yield great accuracy result, the column 'Text' will not be used as it's quiet large and would not yield the best results.\n",
    "\n",
    "#Merging the author name and the title attibute\n",
    "df['content'] = df['author']+' '+df['title']\n",
    "\n",
    "#The selected dependent variable 'content' and 'label', would be used to make predictions.\n",
    "print(df['content'])\n"
   ]
  },
  {
   "cell_type": "code",
   "execution_count": 22,
   "id": "c2e71c5d",
   "metadata": {},
   "outputs": [],
   "source": [
    "#Separating the data with the Label attribute.\n",
    "#dropping the label attribute.\n",
    "#KB: column = axis (1) and rows = axis (0) is for rows\n",
    "\n",
    "X = df.drop(columns='label', axis=1)  \n",
    "Y = df['label']     # Y=Label Data"
   ]
  },
  {
   "cell_type": "code",
   "execution_count": 23,
   "id": "fc3885c6",
   "metadata": {
    "collapsed": true
   },
   "outputs": [
    {
     "name": "stdout",
     "output_type": "stream",
     "text": [
      "          id                                              title  \\\n",
      "0          0  House Dem Aide: We Didn’t Even See Comey’s Let...   \n",
      "1          1  FLYNN: Hillary Clinton, Big Woman on Campus - ...   \n",
      "2          2                  Why the Truth Might Get You Fired   \n",
      "3          3  15 Civilians Killed In Single US Airstrike Hav...   \n",
      "4          4  Iranian woman jailed for fictional unpublished...   \n",
      "...      ...                                                ...   \n",
      "20795  20795  Rapper T.I.: Trump a ’Poster Child For White S...   \n",
      "20796  20796  N.F.L. Playoffs: Schedule, Matchups and Odds -...   \n",
      "20797  20797  Macy’s Is Said to Receive Takeover Approach by...   \n",
      "20798  20798  NATO, Russia To Hold Parallel Exercises In Bal...   \n",
      "20799  20799                          What Keeps the F-35 Alive   \n",
      "\n",
      "                                          author  \\\n",
      "0                                  Darrell Lucus   \n",
      "1                                Daniel J. Flynn   \n",
      "2                             Consortiumnews.com   \n",
      "3                                Jessica Purkiss   \n",
      "4                                 Howard Portnoy   \n",
      "...                                          ...   \n",
      "20795                              Jerome Hudson   \n",
      "20796                           Benjamin Hoffman   \n",
      "20797  Michael J. de la Merced and Rachel Abrams   \n",
      "20798                                Alex Ansary   \n",
      "20799                              David Swanson   \n",
      "\n",
      "                                                    text  \\\n",
      "0      House Dem Aide: We Didn’t Even See Comey’s Let...   \n",
      "1      Ever get the feeling your life circles the rou...   \n",
      "2      Why the Truth Might Get You Fired October 29, ...   \n",
      "3      Videos 15 Civilians Killed In Single US Airstr...   \n",
      "4      Print \\nAn Iranian woman has been sentenced to...   \n",
      "...                                                  ...   \n",
      "20795  Rapper T. I. unloaded on black celebrities who...   \n",
      "20796  When the Green Bay Packers lost to the Washing...   \n",
      "20797  The Macy’s of today grew from the union of sev...   \n",
      "20798  NATO, Russia To Hold Parallel Exercises In Bal...   \n",
      "20799    David Swanson is an author, activist, journa...   \n",
      "\n",
      "                                                 content  \n",
      "0      Darrell Lucus House Dem Aide: We Didn’t Even S...  \n",
      "1      Daniel J. Flynn FLYNN: Hillary Clinton, Big Wo...  \n",
      "2      Consortiumnews.com Why the Truth Might Get You...  \n",
      "3      Jessica Purkiss 15 Civilians Killed In Single ...  \n",
      "4      Howard Portnoy Iranian woman jailed for fictio...  \n",
      "...                                                  ...  \n",
      "20795  Jerome Hudson Rapper T.I.: Trump a ’Poster Chi...  \n",
      "20796  Benjamin Hoffman N.F.L. Playoffs: Schedule, Ma...  \n",
      "20797  Michael J. de la Merced and Rachel Abrams Macy...  \n",
      "20798  Alex Ansary NATO, Russia To Hold Parallel Exer...  \n",
      "20799            David Swanson What Keeps the F-35 Alive  \n",
      "\n",
      "[20800 rows x 5 columns]\n",
      "0        1\n",
      "1        0\n",
      "2        1\n",
      "3        1\n",
      "4        1\n",
      "        ..\n",
      "20795    0\n",
      "20796    0\n",
      "20797    0\n",
      "20798    1\n",
      "20799    1\n",
      "Name: label, Length: 20800, dtype: int64\n"
     ]
    }
   ],
   "source": [
    "print(X)\n",
    "print(Y)"
   ]
  },
  {
   "cell_type": "markdown",
   "id": "32f79d13",
   "metadata": {},
   "source": [
    "Step 2: Stemming procedure \n",
    "\n",
    "Stemming is the process of reducing a word to its root word, this would remove the prefix and suffix\n",
    "\n",
    "Example:\n",
    "Actor, actress, acting ----> act "
   ]
  },
  {
   "cell_type": "code",
   "execution_count": 29,
   "id": "510cb568",
   "metadata": {},
   "outputs": [],
   "source": [
    "p_stem = PorterStemmer()"
   ]
  },
  {
   "cell_type": "code",
   "execution_count": 30,
   "id": "3543c491",
   "metadata": {},
   "outputs": [],
   "source": [
    "#To create a function called stemming on content(input value)\n",
    "def stemming(content):\n",
    "    stemmed_content = re.sub('[^a-zA-Z]',' ',content) #using reg. exp. subtitute to remove everything that is not alphabet in content column.(all numbers and puntuations would be removed)\n",
    "    stemmed_content = stemmed_content.lower() #convert all letters into lowercase letters\n",
    "    stemmed_content = stemmed_content.split() #split the words and convert to a list\n",
    "    #stemming by removing the stopwords as downloaded previously.\n",
    "    stemmed_content = [p_stem.stem(word) for word in stemmed_content if not word in stopwords.words('english')]\n",
    "    stemmed_content = ' '.join(stemmed_content) #joining all the words together\n",
    "    return stemmed_content #returns result after\n",
    "    "
   ]
  },
  {
   "cell_type": "code",
   "execution_count": 31,
   "id": "f4346934",
   "metadata": {},
   "outputs": [],
   "source": [
    "#Applying the stemming on the content column\n",
    "df['content'] = df['content'].apply(stemming)"
   ]
  },
  {
   "cell_type": "code",
   "execution_count": 38,
   "id": "66fa9e6c",
   "metadata": {},
   "outputs": [
    {
     "name": "stdout",
     "output_type": "stream",
     "text": [
      "0        darrel lucu hous dem aid even see comey letter...\n",
      "1        daniel j flynn flynn hillari clinton big woman...\n",
      "2                   consortiumnew com truth might get fire\n",
      "3        jessica purkiss civilian kill singl us airstri...\n",
      "4        howard portnoy iranian woman jail fiction unpu...\n",
      "                               ...                        \n",
      "20795    jerom hudson rapper trump poster child white s...\n",
      "20796    benjamin hoffman n f l playoff schedul matchup...\n",
      "20797    michael j de la merc rachel abram maci said re...\n",
      "20798    alex ansari nato russia hold parallel exercis ...\n",
      "20799                            david swanson keep f aliv\n",
      "Name: content, Length: 20800, dtype: object\n"
     ]
    }
   ],
   "source": [
    "print(df['content'])\n",
    "\n",
    "X= df['content']"
   ]
  },
  {
   "cell_type": "code",
   "execution_count": 39,
   "id": "4931b28e",
   "metadata": {},
   "outputs": [
    {
     "name": "stdout",
     "output_type": "stream",
     "text": [
      "['darrel lucu hous dem aid even see comey letter jason chaffetz tweet'\n",
      " 'daniel j flynn flynn hillari clinton big woman campu breitbart'\n",
      " 'consortiumnew com truth might get fire' ...\n",
      " 'michael j de la merc rachel abram maci said receiv takeov approach hudson bay new york time'\n",
      " 'alex ansari nato russia hold parallel exercis balkan'\n",
      " 'david swanson keep f aliv']\n",
      "[1 0 1 ... 0 1 1]\n"
     ]
    }
   ],
   "source": [
    "#separating the data and label\n",
    "\n",
    "X = df['content'].values\n",
    "Y = df['label'].values\n",
    "\n",
    "print(X)\n",
    "print(Y)"
   ]
  },
  {
   "cell_type": "code",
   "execution_count": 40,
   "id": "5081e07b",
   "metadata": {},
   "outputs": [
    {
     "data": {
      "text/plain": [
       "(20800,)"
      ]
     },
     "execution_count": 40,
     "metadata": {},
     "output_type": "execute_result"
    }
   ],
   "source": [
    "Y.shape"
   ]
  },
  {
   "cell_type": "markdown",
   "id": "c9b4310b",
   "metadata": {},
   "source": [
    "Step 3: Vectorization\n",
    "\n",
    "Converts all the text to numbers using vectorizer function tfidfvectorizer tfidt = term frequency and idf = inverse document frequency\n"
   ]
  },
  {
   "cell_type": "code",
   "execution_count": 41,
   "id": "471a9b3f",
   "metadata": {},
   "outputs": [],
   "source": [
    "#converting the textual data to numerical data\n",
    "\n",
    "vectorizer = TfidfVectorizer()\n",
    "vectorizer.fit(X)\n",
    "\n",
    "data = vectorizer.transform(X)"
   ]
  },
  {
   "cell_type": "code",
   "execution_count": 42,
   "id": "a0459cb4",
   "metadata": {},
   "outputs": [
    {
     "name": "stdout",
     "output_type": "stream",
     "text": [
      "  (0, 15686)\t0.28485063562728646\n",
      "  (0, 13473)\t0.2565896679337957\n",
      "  (0, 8909)\t0.3635963806326075\n",
      "  (0, 8630)\t0.29212514087043684\n",
      "  (0, 7692)\t0.24785219520671603\n",
      "  (0, 7005)\t0.21874169089359144\n",
      "  (0, 4973)\t0.233316966909351\n",
      "  (0, 3792)\t0.2705332480845492\n",
      "  (0, 3600)\t0.3598939188262559\n",
      "  (0, 2959)\t0.2468450128533713\n",
      "  (0, 2483)\t0.3676519686797209\n",
      "  (0, 267)\t0.27010124977708766\n",
      "  (1, 16799)\t0.30071745655510157\n",
      "  (1, 6816)\t0.1904660198296849\n",
      "  (1, 5503)\t0.7143299355715573\n",
      "  (1, 3568)\t0.26373768806048464\n",
      "  (1, 2813)\t0.19094574062359204\n",
      "  (1, 2223)\t0.3827320386859759\n",
      "  (1, 1894)\t0.15521974226349364\n",
      "  (1, 1497)\t0.2939891562094648\n",
      "  (2, 15611)\t0.41544962664721613\n",
      "  (2, 9620)\t0.49351492943649944\n",
      "  (2, 5968)\t0.3474613386728292\n",
      "  (2, 5389)\t0.3866530551182615\n",
      "  (2, 3103)\t0.46097489583229645\n",
      "  :\t:\n",
      "  (20797, 13122)\t0.2482526352197606\n",
      "  (20797, 12344)\t0.27263457663336677\n",
      "  (20797, 12138)\t0.24778257724396507\n",
      "  (20797, 10306)\t0.08038079000566466\n",
      "  (20797, 9588)\t0.174553480255222\n",
      "  (20797, 9518)\t0.2954204003420313\n",
      "  (20797, 8988)\t0.36160868928090795\n",
      "  (20797, 8364)\t0.22322585870464118\n",
      "  (20797, 7042)\t0.21799048897828688\n",
      "  (20797, 3643)\t0.21155500613623743\n",
      "  (20797, 1287)\t0.33538056804139865\n",
      "  (20797, 699)\t0.30685846079762347\n",
      "  (20797, 43)\t0.29710241860700626\n",
      "  (20798, 13046)\t0.22363267488270608\n",
      "  (20798, 11052)\t0.4460515589182236\n",
      "  (20798, 10177)\t0.3192496370187028\n",
      "  (20798, 6889)\t0.32496285694299426\n",
      "  (20798, 5032)\t0.4083701450239529\n",
      "  (20798, 1125)\t0.4460515589182236\n",
      "  (20798, 588)\t0.3112141524638974\n",
      "  (20798, 350)\t0.28446937819072576\n",
      "  (20799, 14852)\t0.5677577267055112\n",
      "  (20799, 8036)\t0.45983893273780013\n",
      "  (20799, 3623)\t0.37927626273066584\n",
      "  (20799, 377)\t0.5677577267055112\n"
     ]
    }
   ],
   "source": [
    "print(data)"
   ]
  },
  {
   "cell_type": "markdown",
   "id": "ab8f70dc",
   "metadata": {},
   "source": [
    "Step 4: Cross Validation with K Fold data split"
   ]
  },
  {
   "cell_type": "code",
   "execution_count": 43,
   "id": "f8cf1bfa",
   "metadata": {},
   "outputs": [],
   "source": [
    "#Data Splitting using cross validation K fold\n",
    "#splitting the Dataset into training and testing data\n",
    "\n",
    "from sklearn.model_selection import KFold\n",
    "kf3 = KFold(n_splits=3)\n",
    "kf5 = KFold(n_splits=5)"
   ]
  },
  {
   "cell_type": "markdown",
   "id": "efd3ea59",
   "metadata": {},
   "source": [
    "Step 5: Training the Model\n",
    "\n",
    "Training Algorithmn Model using both KFold N=3 and N=5 to compare the results.\n",
    "\n",
    "After comparism, selected Fold is N=5"
   ]
  },
  {
   "cell_type": "code",
   "execution_count": 44,
   "id": "7f8bba8c",
   "metadata": {},
   "outputs": [],
   "source": [
    "#Definining a function to define the model\n",
    "\n",
    "def get_score(model, X_train, X_test, y_train, y_test):\n",
    "    model.fit(X_train, y_train)\n",
    "    return model.score(X_test, y_test)"
   ]
  },
  {
   "cell_type": "code",
   "execution_count": 45,
   "id": "f8c2aec9",
   "metadata": {},
   "outputs": [],
   "source": [
    "#Data Cross validation and Model Training using KFold n3\n",
    "\n",
    "score_logistic_regression3 =[]\n",
    "scores_Naive_Bayes3 = []\n",
    "scores_Decision_tree3 = []\n",
    "\n",
    "for train_index, test_index in kf3.split(data):\n",
    "    X_train, X_test, y_train, y_test = data[train_index], data[test_index], \\\n",
    "                                        Y[train_index], Y[test_index]\n",
    "    score_logistic_regression3.append(get_score(LogisticRegression(), X_train, X_test, y_train, y_test))\n",
    "    scores_Naive_Bayes3.append(get_score(MultinomialNB(), X_train, X_test, y_train, y_test))\n",
    "    scores_Decision_tree3.append(get_score(DecisionTreeClassifier(), X_train, X_test, y_train, y_test))\n",
    "    "
   ]
  },
  {
   "cell_type": "code",
   "execution_count": 46,
   "id": "71f94214",
   "metadata": {},
   "outputs": [],
   "source": [
    "#Model Training using KFold n5\n",
    "\n",
    "score_logistic_regression5 =[]\n",
    "scores_Naive_Bayes5 = []\n",
    "scores_Decision_tree5 = []\n",
    "\n",
    "for train_index, test_index in kf5.split(data):\n",
    "    X_train, X_test, y_train, y_test = data[train_index], data[test_index], \\\n",
    "                                        Y[train_index], Y[test_index]\n",
    "    score_logistic_regression5.append(get_score(LogisticRegression(), X_train, X_test, y_train, y_test))\n",
    "    scores_Naive_Bayes5.append(get_score(MultinomialNB(), X_train, X_test, y_train, y_test))\n",
    "    scores_Decision_tree5.append(get_score(DecisionTreeClassifier(), X_train, X_test, y_train, y_test))\n",
    "    \n"
   ]
  },
  {
   "cell_type": "markdown",
   "id": "358a38c6",
   "metadata": {},
   "source": [
    "Algorithmn 1: Logistic Regression Model"
   ]
  },
  {
   "cell_type": "code",
   "execution_count": 54,
   "id": "9c806791",
   "metadata": {},
   "outputs": [
    {
     "name": "stdout",
     "output_type": "stream",
     "text": [
      "K-fold = 3 Iterations\n",
      " [0.9740409576002308, 0.9759123034761287, 0.9725948362902063]\n",
      "Logistic Regression prediction for Kfold n=3 : 0.9741826991221886\n",
      "\n",
      "\n",
      "K-fold = 5 Iterations\n",
      " [0.9762019230769231, 0.9740384615384615, 0.9795673076923077, 0.9745192307692307, 0.9771634615384616]\n",
      "Logistic Regression prediction for Kfold n=5 : 0.9762980769230769\n",
      "\n",
      "\n",
      "Selected Fold n=5 is: 0.9762980769230769\n"
     ]
    }
   ],
   "source": [
    "#1. \n",
    "score_logistic_regression3\n",
    "print ('K-fold = 3 Iterations\\n', score_logistic_regression3)\n",
    "print ('Logistic Regression prediction for Kfold n=3 :',np.mean(score_logistic_regression3))\n",
    "\n",
    "print('\\n')\n",
    "\n",
    "#2. \n",
    "score_logistic_regression5\n",
    "print ('K-fold = 5 Iterations\\n', score_logistic_regression5)\n",
    "print ('Logistic Regression prediction for Kfold n=5 :', np.mean(score_logistic_regression5))\n",
    "\n",
    "print('\\n')\n",
    "\n",
    "#3.Selected fold is N=5\n",
    "DT1 = cross_val_score(LogisticRegression(), data, Y, cv=kf5, scoring='accuracy')\n",
    "print ('Selected Fold n=5 is:',np.mean(DT1))"
   ]
  },
  {
   "cell_type": "markdown",
   "id": "f109a8b7",
   "metadata": {},
   "source": [
    "Algorithmn 2: Naive Bayes Model"
   ]
  },
  {
   "cell_type": "code",
   "execution_count": 53,
   "id": "9215e78a",
   "metadata": {},
   "outputs": [
    {
     "name": "stdout",
     "output_type": "stream",
     "text": [
      "K-fold = 3 Iterations\n",
      " [0.9521199884626478, 0.9521130823597288, 0.9493725659887494]\n",
      "Naive Bayes prediction for Kfold n=3 : 0.951201878937042\n",
      "\n",
      "\n",
      "K-fold = 5 Iterations\n",
      " [0.9449519230769231, 0.9564903846153846, 0.946875, 0.9569711538461538, 0.9439903846153846]\n",
      "Naive Bayes prediction for Kfold n=5 : 0.9498557692307692\n",
      "\n",
      "\n",
      "Selected Fold n=5 is: 0.9498557692307692\n"
     ]
    }
   ],
   "source": [
    "#1.\n",
    "scores_Naive_Bayes3\n",
    "print ('K-fold = 3 Iterations\\n', scores_Naive_Bayes3)\n",
    "print ('Naive Bayes prediction for Kfold n=3 :',np.mean(scores_Naive_Bayes3))\n",
    "\n",
    "print('\\n')\n",
    "\n",
    "#2.\n",
    "scores_Naive_Bayes5\n",
    "print ('K-fold = 5 Iterations\\n', scores_Naive_Bayes5)\n",
    "print ('Naive Bayes prediction for Kfold n=5 :',np.mean(scores_Naive_Bayes5))\n",
    "\n",
    "print('\\n')\n",
    "\n",
    "#3.\n",
    "DT2 = cross_val_score(MultinomialNB(), data, Y, cv=kf5, scoring='accuracy')\n",
    "print ('Selected Fold n=5 is:',np.mean(DT2))"
   ]
  },
  {
   "cell_type": "markdown",
   "id": "4b1d142b",
   "metadata": {},
   "source": [
    "Algorithmn 3: Decision Tree Model"
   ]
  },
  {
   "cell_type": "code",
   "execution_count": 52,
   "id": "ad9f6574",
   "metadata": {},
   "outputs": [
    {
     "name": "stdout",
     "output_type": "stream",
     "text": [
      "K-fold = 3 Iterations\n",
      " [0.9897605999423132, 0.9927881148132122, 0.9901918361459685]\n",
      "Decision Tree prediction for Kfold n=3 : 0.9909135169671647\n",
      "\n",
      "\n",
      "K-fold = 5 Iterations\n",
      " [0.9947115384615385, 0.9918269230769231, 0.9935096153846154, 0.9927884615384616, 0.9913461538461539]\n",
      "Decision Tree prediction for Kfold n=5 : 0.9928365384615384\n",
      "\n",
      "\n",
      "[0.99519231 0.99110577 0.99375    0.99326923 0.99182692]\n",
      "Final Selected Fold n=5 is:  0.9930288461538461\n"
     ]
    }
   ],
   "source": [
    "# 1. \n",
    "scores_Decision_tree3\n",
    "print ('K-fold = 3 Iterations\\n', scores_Decision_tree3)\n",
    "print ('Decision Tree prediction for Kfold n=3 :',np.mean(scores_Decision_tree3))\n",
    "\n",
    "print('\\n')\n",
    "\n",
    "#2. \n",
    "scores_Decision_tree5\n",
    "print ('K-fold = 5 Iterations\\n', scores_Decision_tree5)\n",
    "print ('Decision Tree prediction for Kfold n=5 :',np.mean(scores_Decision_tree5))\n",
    "\n",
    "print('\\n')\n",
    "\n",
    "#3.Based on the algorithm the \n",
    "DT3 = cross_val_score(DecisionTreeClassifier(), data, Y, cv = kf5, scoring='accuracy')\n",
    "print(DT3)\n",
    "print ('Final Selected Fold n=5 is: ', np.mean(DT3))\n"
   ]
  },
  {
   "cell_type": "markdown",
   "id": "b89565dc",
   "metadata": {},
   "source": [
    "Based on the accuracy score, the Decision tree Algorithm yield the best result of 99%"
   ]
  },
  {
   "cell_type": "code",
   "execution_count": null,
   "id": "2a77132b",
   "metadata": {},
   "outputs": [],
   "source": []
  }
 ],
 "metadata": {
  "kernelspec": {
   "display_name": "Python 3.9.7 64-bit",
   "language": "python",
   "name": "python397jvsc74a57bd0aee8b7b246df8f9039afb4144a1f6fd8d2ca17a180786b69acc140d282b71a49"
  },
  "language_info": {
   "codemirror_mode": {
    "name": "ipython",
    "version": 3
   },
   "file_extension": ".py",
   "mimetype": "text/x-python",
   "name": "python",
   "nbconvert_exporter": "python",
   "pygments_lexer": "ipython3",
   "version": "3.9.7"
  }
 },
 "nbformat": 4,
 "nbformat_minor": 5
}
